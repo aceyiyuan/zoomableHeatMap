{
 "cells": [
  {
   "cell_type": "code",
   "execution_count": null,
   "metadata": {},
   "outputs": [],
   "source": [
    "import numpy as np\n",
    "import pandas as pd\n",
    "import folium\n",
    "import webbrowser\n",
    "from folium.plugins import HeatMap"
   ]
  },
  {
   "cell_type": "code",
   "execution_count": null,
   "metadata": {},
   "outputs": [],
   "source": [
    "# 读取csv文件,以Dataframe形式保存\n",
    "\n",
    "df=pd.read_csv(r\"wuhan.csv\")\n",
    "\n",
    "num=df.shape[0]\n",
    "print(num)"
   ]
  },
  {
   "cell_type": "code",
   "execution_count": null,
   "metadata": {},
   "outputs": [],
   "source": [
    "df.head()"
   ]
  },
  {
   "cell_type": "code",
   "execution_count": null,
   "metadata": {},
   "outputs": [],
   "source": [
    "%matplotlib inline\n",
    "import matplotlib.pyplot as plt\n",
    "df2=df[['Country/Region','Confirmed']]\n",
    "df3=df2.groupby(['Country/Region']).sum().sort_values(by=['Confirmed'], ascending=False)\n",
    "print(df3)"
   ]
  },
  {
   "cell_type": "code",
   "execution_count": null,
   "metadata": {},
   "outputs": [],
   "source": [
    "fig=plt.style.use('ggplot')\n",
    "df3.plot(kind='bar',figsize=(10,6))\n",
    "plt.ylabel('Confirmed')"
   ]
  },
  {
   "cell_type": "code",
   "execution_count": 1,
   "metadata": {},
   "outputs": [
    {
     "ename": "NameError",
     "evalue": "name 'np' is not defined",
     "output_type": "error",
     "traceback": [
      "\u001b[0;31m---------------------------------------------------------------------------\u001b[0m",
      "\u001b[0;31mNameError\u001b[0m                                 Traceback (most recent call last)",
      "\u001b[0;32m<ipython-input-1-751237694e6e>\u001b[0m in \u001b[0;36m<module>\u001b[0;34m\u001b[0m\n\u001b[1;32m      1\u001b[0m \u001b[0;31m# 获取纬度\u001b[0m\u001b[0;34m\u001b[0m\u001b[0;34m\u001b[0m\u001b[0;34m\u001b[0m\u001b[0m\n\u001b[1;32m      2\u001b[0m \u001b[0;34m\u001b[0m\u001b[0m\n\u001b[0;32m----> 3\u001b[0;31m \u001b[0mlat\u001b[0m\u001b[0;34m=\u001b[0m\u001b[0mnp\u001b[0m\u001b[0;34m.\u001b[0m\u001b[0marray\u001b[0m\u001b[0;34m(\u001b[0m\u001b[0mdf\u001b[0m\u001b[0;34m[\u001b[0m\u001b[0;34m\"Lat\"\u001b[0m\u001b[0;34m]\u001b[0m\u001b[0;34m[\u001b[0m\u001b[0;36m0\u001b[0m\u001b[0;34m:\u001b[0m\u001b[0mnum\u001b[0m\u001b[0;34m]\u001b[0m\u001b[0;34m)\u001b[0m\u001b[0;34m\u001b[0m\u001b[0;34m\u001b[0m\u001b[0m\n\u001b[0m\u001b[1;32m      4\u001b[0m \u001b[0;31m# 获取经度\u001b[0m\u001b[0;34m\u001b[0m\u001b[0;34m\u001b[0m\u001b[0;34m\u001b[0m\u001b[0m\n\u001b[1;32m      5\u001b[0m \u001b[0mlon\u001b[0m \u001b[0;34m=\u001b[0m\u001b[0mnp\u001b[0m\u001b[0;34m.\u001b[0m\u001b[0marray\u001b[0m\u001b[0;34m(\u001b[0m\u001b[0mdf\u001b[0m\u001b[0;34m[\u001b[0m\u001b[0;34m\"Long\"\u001b[0m\u001b[0;34m]\u001b[0m\u001b[0;34m[\u001b[0m\u001b[0;36m0\u001b[0m\u001b[0;34m:\u001b[0m\u001b[0mnum\u001b[0m\u001b[0;34m]\u001b[0m\u001b[0;34m)\u001b[0m\u001b[0;34m\u001b[0m\u001b[0;34m\u001b[0m\u001b[0m\n",
      "\u001b[0;31mNameError\u001b[0m: name 'np' is not defined"
     ]
    }
   ],
   "source": [
    "# 获取纬度\n",
    "\n",
    "lat=np.array(df[\"Lat\"][0:num])\n",
    "# 获取经度\n",
    "lon =np.array(df[\"Long\"][0:num])\n",
    "# 获取PM2.5，转化为numpy浮点型\n",
    "\n",
    "pm25=np.array(df[\"Confirmed\"][0:num],dtype=float)\n",
    "# 将数据制作成[lats, lons, weights]的形式\n",
    "\n",
    "data1=[[lat[i],lon[i],pm25[i]] for i in range(num)]\n",
    "# 绘制Map，中心经纬度[32, 120],开始缩放程度是5倍\n",
    "\n",
    "map=folium.Map(location=[32,120], zoom_start=5)\n",
    "# 将热力图添加到前面建立的map里\n",
    "\n",
    "HeatMap(data1).add_to(map)\n",
    " \n",
    "\n",
    "#file_path=r\"wuhan.html\"\n",
    "\n",
    "# 保存为html文件\n",
    "\n",
    "#map.save(file_path)\n",
    "# 默认浏览器打开\n",
    "\n",
    "map"
   ]
  },
  {
   "cell_type": "code",
   "execution_count": null,
   "metadata": {},
   "outputs": [],
   "source": [
    "# In this example, with the hep of heat maps, we are able to perceive the density of volcanoes\n",
    "from folium import plugins\n",
    "\n",
    "df=pd.read_csv(r\"wuhan.csv\")\n",
    "# 获取数据个数\n",
    "\n",
    "num=df.shape[0]\n",
    "# 获取纬度\n",
    "\n",
    "lat=np.array(df[\"Lat\"][0:num])\n",
    "# 获取经度\n",
    "lon =np.array(df[\"Long\"][0:num])\n",
    "# 获取PM2.5，转化为numpy浮点型\n",
    "\n",
    "confirmed=np.array(df[\"Confirmed\"][0:num],dtype=float)\n",
    "\n",
    "data1=[[lat[i],lon[i],confirmed[i]] for i in range(num)]\n",
    "# 将数据制作成[lats, lons, weights]的形式\n",
    "map = folium.Map(location = [32,120], tiles='Cartodb dark_matter', zoom_start = 5)\n",
    "\n",
    "\n",
    "data1\n",
    "\n",
    "HeatMap(data1).add_to(map)\n",
    " \n",
    "map"
   ]
  },
  {
   "cell_type": "code",
   "execution_count": null,
   "metadata": {},
   "outputs": [],
   "source": []
  },
  {
   "cell_type": "code",
   "execution_count": null,
   "metadata": {},
   "outputs": [],
   "source": []
  }
 ],
 "metadata": {
  "kernelspec": {
   "display_name": "Python 3",
   "language": "python",
   "name": "python3"
  },
  "language_info": {
   "codemirror_mode": {
    "name": "ipython",
    "version": 3
   },
   "file_extension": ".py",
   "mimetype": "text/x-python",
   "name": "python",
   "nbconvert_exporter": "python",
   "pygments_lexer": "ipython3",
   "version": "3.7.6"
  },
  "latex_envs": {
   "LaTeX_envs_menu_present": true,
   "autoclose": false,
   "autocomplete": true,
   "bibliofile": "biblio.bib",
   "cite_by": "apalike",
   "current_citInitial": 1,
   "eqLabelWithNumbers": true,
   "eqNumInitial": 1,
   "hotkeys": {
    "equation": "Ctrl-E",
    "itemize": "Ctrl-I"
   },
   "labels_anchors": false,
   "latex_user_defs": false,
   "report_style_numbering": false,
   "user_envs_cfg": false
  },
  "toc": {
   "base_numbering": 1,
   "nav_menu": {},
   "number_sections": true,
   "sideBar": true,
   "skip_h1_title": false,
   "title_cell": "Table of Contents",
   "title_sidebar": "Contents",
   "toc_cell": false,
   "toc_position": {},
   "toc_section_display": true,
   "toc_window_display": false
  }
 },
 "nbformat": 4,
 "nbformat_minor": 2
}
