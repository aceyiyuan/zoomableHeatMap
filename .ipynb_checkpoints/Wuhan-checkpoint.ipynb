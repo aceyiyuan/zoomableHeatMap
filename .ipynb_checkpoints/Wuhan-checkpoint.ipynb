{
 "cells": [
  {
   "cell_type": "code",
   "execution_count": 1,
   "metadata": {},
   "outputs": [],
   "source": [
    "import numpy as np\n",
    "import pandas as pd\n",
    "import folium\n",
    "import webbrowser\n",
    "from folium.plugins import HeatMap"
   ]
  },
  {
   "cell_type": "code",
   "execution_count": 2,
   "metadata": {},
   "outputs": [
    {
     "name": "stdout",
     "output_type": "stream",
     "text": [
      "67\n"
     ]
    }
   ],
   "source": [
    "# 读取csv文件,以Dataframe形式保存\n",
    "\n",
    "df=pd.read_csv(r\"wuhan.csv\")\n",
    "\n",
    "num=df.shape[0]\n",
    "print(num)"
   ]
  },
  {
   "cell_type": "code",
   "execution_count": 3,
   "metadata": {},
   "outputs": [
    {
     "data": {
      "text/html": [
       "<div>\n",
       "<style scoped>\n",
       "    .dataframe tbody tr th:only-of-type {\n",
       "        vertical-align: middle;\n",
       "    }\n",
       "\n",
       "    .dataframe tbody tr th {\n",
       "        vertical-align: top;\n",
       "    }\n",
       "\n",
       "    .dataframe thead th {\n",
       "        text-align: right;\n",
       "    }\n",
       "</style>\n",
       "<table border=\"1\" class=\"dataframe\">\n",
       "  <thead>\n",
       "    <tr style=\"text-align: right;\">\n",
       "      <th></th>\n",
       "      <th>1</th>\n",
       "      <th>Province/State</th>\n",
       "      <th>Country/Region</th>\n",
       "      <th>Lat</th>\n",
       "      <th>Long</th>\n",
       "      <th>Confirmed</th>\n",
       "    </tr>\n",
       "  </thead>\n",
       "  <tbody>\n",
       "    <tr>\n",
       "      <th>0</th>\n",
       "      <td>2</td>\n",
       "      <td>Anhui</td>\n",
       "      <td>Mainland China</td>\n",
       "      <td>31.82571</td>\n",
       "      <td>117.2264</td>\n",
       "      <td>591</td>\n",
       "    </tr>\n",
       "    <tr>\n",
       "      <th>1</th>\n",
       "      <td>3</td>\n",
       "      <td>Beijing</td>\n",
       "      <td>Mainland China</td>\n",
       "      <td>40.18238</td>\n",
       "      <td>116.4142</td>\n",
       "      <td>274</td>\n",
       "    </tr>\n",
       "    <tr>\n",
       "      <th>2</th>\n",
       "      <td>4</td>\n",
       "      <td>Chongqing</td>\n",
       "      <td>Mainland China</td>\n",
       "      <td>30.05718</td>\n",
       "      <td>107.8740</td>\n",
       "      <td>400</td>\n",
       "    </tr>\n",
       "    <tr>\n",
       "      <th>3</th>\n",
       "      <td>5</td>\n",
       "      <td>Fujian</td>\n",
       "      <td>Mainland China</td>\n",
       "      <td>26.07783</td>\n",
       "      <td>117.9895</td>\n",
       "      <td>215</td>\n",
       "    </tr>\n",
       "    <tr>\n",
       "      <th>4</th>\n",
       "      <td>6</td>\n",
       "      <td>Gansu</td>\n",
       "      <td>Mainland China</td>\n",
       "      <td>36.06110</td>\n",
       "      <td>103.8343</td>\n",
       "      <td>62</td>\n",
       "    </tr>\n",
       "  </tbody>\n",
       "</table>\n",
       "</div>"
      ],
      "text/plain": [
       "   1 Province/State  Country/Region       Lat      Long  Confirmed\n",
       "0  2          Anhui  Mainland China  31.82571  117.2264        591\n",
       "1  3        Beijing  Mainland China  40.18238  116.4142        274\n",
       "2  4      Chongqing  Mainland China  30.05718  107.8740        400\n",
       "3  5         Fujian  Mainland China  26.07783  117.9895        215\n",
       "4  6          Gansu  Mainland China  36.06110  103.8343         62"
      ]
     },
     "execution_count": 3,
     "metadata": {},
     "output_type": "execute_result"
    }
   ],
   "source": [
    "df.head()"
   ]
  },
  {
   "cell_type": "code",
   "execution_count": 4,
   "metadata": {},
   "outputs": [
    {
     "name": "stdout",
     "output_type": "stream",
     "text": [
      "                      Confirmed\n",
      "Country/Region                 \n",
      "Mainland China            28088\n",
      "Japan                        45\n",
      "Singapore                    28\n",
      "Thailand                     25\n",
      "Hong Kong                    24\n",
      "South Korea                  23\n",
      "Taiwan                       16\n",
      "Australia                    14\n",
      "US                           12\n",
      "Germany                      12\n",
      "Malaysia                     12\n",
      "Vietnam                      10\n",
      "Macau                        10\n",
      "France                        6\n",
      "Canada                        5\n",
      "United Arab Emirates          5\n",
      "India                         3\n",
      "Italy                         2\n",
      "Philippines                   2\n",
      "Russia                        2\n",
      "UK                            2\n",
      "Belgium                       1\n",
      "Spain                         1\n",
      "Sri Lanka                     1\n",
      "Sweden                        1\n",
      "Finland                       1\n",
      "Cambodia                      1\n",
      "Nepal                         1\n"
     ]
    }
   ],
   "source": [
    "%matplotlib inline\n",
    "import matplotlib.pyplot as plt\n",
    "df2=df[['Country/Region','Confirmed']]\n",
    "df3=df2.groupby(['Country/Region']).sum().sort_values(by=['Confirmed'], ascending=False)\n",
    "print(df3)"
   ]
  },
  {
   "cell_type": "code",
   "execution_count": 5,
   "metadata": {},
   "outputs": [
    {
     "data": {
      "text/plain": [
       "Text(0, 0.5, 'Confirmed')"
      ]
     },
     "execution_count": 5,
     "metadata": {},
     "output_type": "execute_result"
    },
    {
     "data": {
      "image/png": "[encoded data removed]",
      "text/plain": [
       "<Figure size 720x432 with 1 Axes>"
      ]
     },
     "metadata": {},
     "output_type": "display_data"
    }
   ],
   "source": [
    "fig=plt.style.use('ggplot')\n",
    "df3.plot(kind='bar',figsize=(10,6))\n",
    "plt.ylabel('Confirmed')"
   ]
  },
  {
   "cell_type": "code",
   "execution_count": 6,
   "metadata": {},
   "outputs": [
    {
     "data": {
      "text/html": [
       "<div style=\"width:100%;\"><div style=\"position:relative;width:100%;height:0;padding-bottom:60%;\"><iframe src=\"data:text/html;charset=utf-8;base64,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\" style=\"position:absolute;width:100%;height:100%;left:0;top:0;border:none !important;\" allowfullscreen webkitallowfullscreen mozallowfullscreen></iframe></div></div>"
      ],
      "text/plain": [
       "<folium.folium.Map at 0x11571f7d0>"
      ]
     },
     "execution_count": 6,
     "metadata": {},
     "output_type": "execute_result"
    }
   ],
   "source": [
    "# 获取纬度\n",
    "\n",
    "lat=np.array(df[\"Lat\"][0:num])\n",
    "# 获取经度\n",
    "lon =np.array(df[\"Long\"][0:num])\n",
    "# 获取PM2.5，转化为numpy浮点型\n",
    "\n",
    "pm25=np.array(df[\"Confirmed\"][0:num],dtype=float)\n",
    "# 将数据制作成[lats, lons, weights]的形式\n",
    "\n",
    "data1=[[lat[i],lon[i],pm25[i]] for i in range(num)]\n",
    "# 绘制Map，中心经纬度[32, 120],开始缩放程度是5倍\n",
    "\n",
    "map=folium.Map(location=[32,120], zoom_start=5)\n",
    "# 将热力图添加到前面建立的map里\n",
    "\n",
    "HeatMap(data1).add_to(map)\n",
    " \n",
    "\n",
    "#file_path=r\"wuhan.html\"\n",
    "\n",
    "# 保存为html文件\n",
    "\n",
    "#map.save(file_path)\n",
    "# 默认浏览器打开\n",
    "\n",
    "map"
   ]
  },
  {
   "cell_type": "code",
   "execution_count": 7,
   "metadata": {},
   "outputs": [
    {
     "data": {
      "text/html": [
       "<div style=\"width:100%;\"><div style=\"position:relative;width:100%;height:0;padding-bottom:60%;\"><iframe src=\"data:text/html;charset=utf-8;base64,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\" style=\"position:absolute;width:100%;height:100%;left:0;top:0;border:none !important;\" allowfullscreen webkitallowfullscreen mozallowfullscreen></iframe></div></div>"
      ],
      "text/plain": [
       "<folium.folium.Map at 0x113253bd0>"
      ]
     },
     "execution_count": 7,
     "metadata": {},
     "output_type": "execute_result"
    }
   ],
   "source": [
    "# In this example, with the hep of heat maps, we are able to perceive the density of volcanoes\n",
    "from folium import plugins\n",
    "\n",
    "df=pd.read_csv(r\"wuhan.csv\")\n",
    "# 获取数据个数\n",
    "\n",
    "num=df.shape[0]\n",
    "# 获取纬度\n",
    "\n",
    "lat=np.array(df[\"Lat\"][0:num])\n",
    "# 获取经度\n",
    "lon =np.array(df[\"Long\"][0:num])\n",
    "# 获取PM2.5，转化为numpy浮点型\n",
    "\n",
    "confirmed=np.array(df[\"Confirmed\"][0:num],dtype=float)\n",
    "\n",
    "data1=[[lat[i],lon[i],confirmed[i]] for i in range(num)]\n",
    "# 将数据制作成[lats, lons, weights]的形式\n",
    "map = folium.Map(location = [32,120], tiles='Cartodb dark_matter', zoom_start = 5)\n",
    "\n",
    "\n",
    "data1\n",
    "\n",
    "HeatMap(data1).add_to(map)\n",
    " \n",
    "map"
   ]
  },
  {
   "cell_type": "code",
   "execution_count": null,
   "metadata": {},
   "outputs": [],
   "source": []
  },
  {
   "cell_type": "code",
   "execution_count": null,
   "metadata": {},
   "outputs": [],
   "source": []
  }
 ],
 "metadata": {
  "kernelspec": {
   "display_name": "Python 3",
   "language": "python",
   "name": "python3"
  },
  "language_info": {
   "codemirror_mode": {
    "name": "ipython",
    "version": 3
   },
   "file_extension": ".py",
   "mimetype": "text/x-python",
   "name": "python",
   "nbconvert_exporter": "python",
   "pygments_lexer": "ipython3",
   "version": "3.7.6"
  },
  "latex_envs": {
   "LaTeX_envs_menu_present": true,
   "autoclose": false,
   "autocomplete": true,
   "bibliofile": "biblio.bib",
   "cite_by": "apalike",
   "current_citInitial": 1,
   "eqLabelWithNumbers": true,
   "eqNumInitial": 1,
   "hotkeys": {
    "equation": "Ctrl-E",
    "itemize": "Ctrl-I"
   },
   "labels_anchors": false,
   "latex_user_defs": false,
   "report_style_numbering": false,
   "user_envs_cfg": false
  },
  "toc": {
   "base_numbering": 1,
   "nav_menu": {},
   "number_sections": true,
   "sideBar": true,
   "skip_h1_title": false,
   "title_cell": "Table of Contents",
   "title_sidebar": "Contents",
   "toc_cell": false,
   "toc_position": {},
   "toc_section_display": true,
   "toc_window_display": false
  }
 },
 "nbformat": 4,
 "nbformat_minor": 2
}
